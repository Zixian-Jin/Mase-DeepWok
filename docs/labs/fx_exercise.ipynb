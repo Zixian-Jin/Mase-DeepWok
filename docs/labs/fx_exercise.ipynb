{
 "cells": [
  {
   "cell_type": "code",
   "execution_count": 1,
   "metadata": {},
   "outputs": [],
   "source": [
    "import torch\n",
    "import torch.fx"
   ]
  },
  {
   "cell_type": "code",
   "execution_count": 2,
   "metadata": {},
   "outputs": [],
   "source": [
    "class MyModule(torch.nn.Module):\n",
    "    def __init__(self):\n",
    "        super().__init__()\n",
    "        self.param = torch.nn.Parameter(torch.rand(3, 4))\n",
    "        self.linear = torch.nn.Linear(4, 5)\n",
    "\n",
    "    def forward(self, x):\n",
    "        w = self.linear.weight\n",
    "        x = x + w\n",
    "        x = self.linear(x)\n",
    "        x = x.relu()\n",
    "        x = torch.sum(x ,dim=-1)\n",
    "        x = torch.topk(x, 3)\n",
    "        return x"
   ]
  },
  {
   "cell_type": "code",
   "execution_count": 4,
   "metadata": {},
   "outputs": [
    {
     "name": "stdout",
     "output_type": "stream",
     "text": [
      "graph():\n",
      "    %x : [num_users=1] = placeholder[target=x]\n",
      "    %linear_weight : [num_users=1] = get_attr[target=linear.weight]\n",
      "    %add : [num_users=1] = call_function[target=operator.add](args = (%x, %linear_weight), kwargs = {})\n",
      "    %linear : [num_users=1] = call_module[target=linear](args = (%add,), kwargs = {})\n",
      "    %relu : [num_users=1] = call_method[target=relu](args = (%linear,), kwargs = {})\n",
      "    %sum_1 : [num_users=1] = call_function[target=torch.sum](args = (%relu,), kwargs = {dim: -1})\n",
      "    %topk : [num_users=1] = call_function[target=torch.topk](args = (%sum_1, 3), kwargs = {})\n",
      "    return topk\n",
      "\n",
      "\n",
      "\n",
      "def forward(self, x):\n",
      "    linear_weight = self.linear.weight\n",
      "    add = x + linear_weight;  x = linear_weight = None\n",
      "    linear = self.linear(add);  add = None\n",
      "    relu = linear.relu();  linear = None\n",
      "    sum_1 = torch.sum(relu, dim = -1);  relu = None\n",
      "    topk = torch.topk(sum_1, 3);  sum_1 = None\n",
      "    return topk\n",
      "    \n"
     ]
    }
   ],
   "source": [
    "m = MyModule()\n",
    "gm = torch.fx.symbolic_trace(m)\n",
    "print(gm.graph)\n",
    "print(gm.code)"
   ]
  },
  {
   "cell_type": "code",
   "execution_count": 6,
   "metadata": {},
   "outputs": [
    {
     "data": {
      "text/plain": [
       "[x, linear_weight, add, linear, relu, sum_1, topk, output]"
      ]
     },
     "execution_count": 6,
     "metadata": {},
     "output_type": "execute_result"
    }
   ],
   "source": [
    "list(gm.graph.nodes)"
   ]
  }
 ],
 "metadata": {
  "kernelspec": {
   "display_name": "Python 3",
   "language": "python",
   "name": "python3"
  },
  "language_info": {
   "codemirror_mode": {
    "name": "ipython",
    "version": 3
   },
   "file_extension": ".py",
   "mimetype": "text/x-python",
   "name": "python",
   "nbconvert_exporter": "python",
   "pygments_lexer": "ipython3",
   "version": "3.11.7"
  }
 },
 "nbformat": 4,
 "nbformat_minor": 2
}
